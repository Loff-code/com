{
 "cells": [
  {
   "cell_type": "markdown",
   "metadata": {},
   "source": [
    "Here is the table formatted according to your input and the style from the screenshot:\n",
    "\n",
    "| **Inst**   |             |\n",
    "|------------|-------------|\n",
    "| **add**    | ✔️          |\n",
    "| **sub**    | ✔️          |\n",
    "| **xor**    | ✔️          |\n",
    "| **or**     | ✔️          |\n",
    "| **and**    | ✔️          |\n",
    "| **sll**    | ✔️          |\n",
    "| **srl**    | ✔️          |\n",
    "| **sra**    | ✔️          |\n",
    "| **slt**    | ✔️          |\n",
    "| **sltu**   | ✔️          |\n",
    "| **addi**   | ✔️          |\n",
    "| **xori**   | ✔️          |\n",
    "| **ori**    | ✔️          |\n",
    "| **andi**   | ✔️          |\n",
    "| **slli**   | ✔️          |\n",
    "| **srli**   | ✔️          |\n",
    "| **srai**   | ✔️          |\n",
    "| **slti**   | ✔️          |\n",
    "| **sltiu**  | ✔️          |\n",
    "| **lb**     |             |\n",
    "| **lh**     |             |\n",
    "| **lw**     |             |\n",
    "| **lbu**    |             |\n",
    "| **lhu**    |             |\n",
    "| **sb**     |             |\n",
    "| **sh**     |             |\n",
    "| **sw**     |             |\n",
    "| **beq**    | ✔️          |\n",
    "| **bne**    | ✔️          |\n",
    "| **blt**    | ✔️          |\n",
    "| **bge**    | ✔️          |\n",
    "| **bltu**   | ✔️          |\n",
    "| **bgeu**   | ✔️          |\n",
    "| **jal**    |             |\n",
    "| **jalr**   |             |\n",
    "| **lui**    | ✔️          |\n",
    "| **auipc**  | ✔️          |\n",
    "| **ecall**  |             |\n"
   ]
  }
 ],
 "metadata": {
  "language_info": {
   "name": "python"
  }
 },
 "nbformat": 4,
 "nbformat_minor": 2
}
