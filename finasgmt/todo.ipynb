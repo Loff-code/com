{
 "cells": [
  {
   "cell_type": "markdown",
   "metadata": {},
   "source": [
    "### Solar System Exploration, 1950s – 1960s\n",
    "\n",
    "- [ ] Mercury\n",
    "- [x] Venus\n",
    "- [x] Earth (Orbit/Moon)\n",
    "- [x] Mars\n",
    "- [ ] Jupiter\n",
    "- [ ] Saturn\n",
    "- [ ] \n",
    "- [ ] Uranus\n",
    "- [ ] Neptune\n",
    "- [ ] Comet Haley\n",
    "- [ ]  "
   ]
  }
 ],
 "metadata": {
  "language_info": {
   "name": "python"
  }
 },
 "nbformat": 4,
 "nbformat_minor": 2
}
