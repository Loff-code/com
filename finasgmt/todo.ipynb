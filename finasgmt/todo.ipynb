{
 "cells": [
  {
   "cell_type": "markdown",
   "metadata": {},
   "source": [
    "### Solar System Exploration, 1950s – 1960s\n",
    "\n",
    "- [ ] lui\n",
    "- [x] auipc\n",
    "- [x] addi\n",
    "- [x] slti\n",
    "- [ ] sltiu\n",
    "- [ ] xori\n",
    "- [ ] ori\n",
    "- [ ] andi  \n",
    "- [ ] slli\n",
    "- [ ] srli\n",
    "- [ ] srai\n",
    "- [ ] add\n",
    "- [ ] sub\n",
    "- [ ] sll\n",
    "- [ ] slt\n",
    "- [ ] sltu\n",
    "- [ ] xor\n",
    "- [ ] srl\n",
    "- [ ] sra\n",
    "- [ ] or\n",
    "- [ ] and\n",
    "- [ ] ecall\n",
    "- [ ] uret\n",
    "- [ ] sret\n",
    "- [ ] mret\n",
    "- [ ] wfi\n",
    "- [ ] sfence.vma\n",
    "- [ ] lb\n",
    "- [ ] lh\n",
    "- [ ] lw\n",
    "- [ ] lbu\n",
    "- [ ] lhu\n",
    "- [ ] sb\n",
    "- [ ] sh\n",
    "- [ ] sw\n",
    "- [ ] jal\n",
    "- [ ] jalr\n",
    "- [ ] beq\n",
    "- [ ] bne\n",
    "- [ ] blt\n",
    "- [ ] bge\n",
    "- [ ] bltu\n",
    "- [ ] bgeu"
   ]
  },
  {
   "cell_type": "markdown",
   "metadata": {},
   "source": []
  },
  {
   "cell_type": "markdown",
   "metadata": {},
   "source": []
  }
 ],
 "metadata": {
  "language_info": {
   "name": "python"
  }
 },
 "nbformat": 4,
 "nbformat_minor": 2
}
